{
 "cells": [
  {
   "cell_type": "code",
   "execution_count": 128,
   "id": "555d1853",
   "metadata": {},
   "outputs": [],
   "source": [
    "import pandas as pd\n",
    "from sklearn.ensemble import IsolationForest\n",
    "from sklearn.ensemble import RandomForestClassifier\n",
    "from sklearn.model_selection import train_test_split\n",
    "from sklearn.model_selection import GridSearchCV\n",
    "from sklearn.metrics import classification_report\n",
    "import numpy as np\n",
    "\n",
    "# Load the dataset\n",
    "df_database = pd.read_csv('Gun_Violence_Record_Reduced.csv')\n",
    "\n",
    "# Select features from feature selection\n",
    "selected_features = ['State Code', 'Region', 'Urban/Suburban/Rural', 'Age', 'Race',\n",
    "       'Religion', 'Education', 'School Performance', 'Birth Order',\n",
    "       'Number of Siblings', 'Relationship Status', 'Children',\n",
    "       'Employment Status', 'Employment Type\\xa0', 'Military Branch',\n",
    "       'Community Involvement', 'Part I Crimes', 'Part II Crimes',\n",
    "       'Domestic Abuse Specified', 'Childhood SES',\n",
    "       'Recent or Ongoing Stressor', 'Timeline of Signs of Crisis',\n",
    "       'Substance Use', 'Known Prejudices\\xa0', 'Leakage How', 'Leakage Who\\xa0',\n",
    "       'Leakage Specific/Nonspecific ', 'Criminal Sentence', 'label']\n",
    "\n",
    "df = df_database[selected_features]\n",
    "\n",
    "#Fill NaNs\n",
    "df.replace(r'^\\s+$', np.nan, regex=True,  inplace=True)\n",
    "df.replace([np.inf, -np.inf], np.nan, inplace=True)\n",
    "df.fillna(-999999, inplace=True)\n",
    "\n",
    "data_mass_shooters = df\n",
    "\n",
    "X = data_mass_shooters.drop(columns=['label']) \n",
    "y = data_mass_shooters['label']\n",
    "\n",
    "\n",
    "X.columns =[['State Code', 'Region', 'Urban/Suburban/Rural', 'Age', 'Race',\n",
    "       'Religion', 'Education', 'School Performance', 'Birth Order',\n",
    "       'Number of Siblings', 'Relationship Status', 'Children',\n",
    "       'Employment Status', 'Employment Type ', 'Military Branch',\n",
    "       'Community Involvement', 'Part I Crimes', 'Part II Crimes',\n",
    "       'Domestic Abuse Specified', 'Childhood SES',\n",
    "       'Recent or Ongoing Stressor', 'Timeline of Signs of Crisis',\n",
    "       'Substance Use', 'Known Prejudices ', 'Leakage How', 'Leakage Who ',\n",
    "       'Leakage Specific/Nonspecific ', 'Criminal Sentence']]\n",
    "\n",
    "\n",
    "\n"
   ]
  },
  {
   "cell_type": "markdown",
   "id": "62fc7809",
   "metadata": {},
   "source": [
    "# Split data into training and testing sets\n"
   ]
  },
  {
   "cell_type": "code",
   "execution_count": 129,
   "id": "4a85ebac",
   "metadata": {},
   "outputs": [],
   "source": [
    "X_train, X_test, y_train, y_test = train_test_split(X, y, test_size=0.3, random_state=42)\n"
   ]
  },
  {
   "cell_type": "markdown",
   "id": "385427f3",
   "metadata": {},
   "source": [
    "# Hyperparameter tuning for the Random Forest classifier\n"
   ]
  },
  {
   "cell_type": "code",
   "execution_count": 130,
   "id": "4f73d566",
   "metadata": {},
   "outputs": [
    {
     "name": "stdout",
     "output_type": "stream",
     "text": [
      "Best Classifier Classification Report:\n",
      "               precision    recall  f1-score   support\n",
      "\n",
      "           1       1.00      1.00      1.00        55\n",
      "\n",
      "    accuracy                           1.00        55\n",
      "   macro avg       1.00      1.00      1.00        55\n",
      "weighted avg       1.00      1.00      1.00        55\n",
      "\n"
     ]
    }
   ],
   "source": [
    "param_grid = {\n",
    "    'n_estimators': [50, 100, 200],\n",
    "    'max_depth': [None, 10, 20],\n",
    "    'min_samples_split': [2, 5, 10],\n",
    "    'min_samples_leaf': [1, 2, 4]\n",
    "}\n",
    "\n",
    "classifier = RandomForestClassifier(random_state=42)\n",
    "\n",
    "grid_search = GridSearchCV(classifier, param_grid, cv=5, scoring='accuracy')\n",
    "grid_search.fit(X_train, y_train)\n",
    "\n",
    "# Evaluate the best forest classifier on the test set\n",
    "best_classifier = grid_search.best_estimator_\n",
    "y_pred = best_classifier.predict(X_test)\n",
    "print(\"Best Classifier Classification Report:\\n\", classification_report(y_test, y_pred))\n",
    "\n"
   ]
  },
  {
   "cell_type": "code",
   "execution_count": 131,
   "id": "e0791c1d",
   "metadata": {},
   "outputs": [
    {
     "name": "stdout",
     "output_type": "stream",
     "text": [
      "Best Parameters: {'max_depth': None, 'min_samples_leaf': 1, 'min_samples_split': 2, 'n_estimators': 50}\n"
     ]
    }
   ],
   "source": [
    "best_params = grid_search.best_params_\n",
    "print(\"Best Parameters:\", best_params)"
   ]
  },
  {
   "cell_type": "markdown",
   "id": "f392726b",
   "metadata": {},
   "source": [
    "# Fitting IForest and RandomForestClassifier"
   ]
  },
  {
   "cell_type": "code",
   "execution_count": 159,
   "id": "aa735925",
   "metadata": {},
   "outputs": [
    {
     "data": {
      "text/html": [
       "<style>#sk-container-id-13 {color: black;background-color: white;}#sk-container-id-13 pre{padding: 0;}#sk-container-id-13 div.sk-toggleable {background-color: white;}#sk-container-id-13 label.sk-toggleable__label {cursor: pointer;display: block;width: 100%;margin-bottom: 0;padding: 0.3em;box-sizing: border-box;text-align: center;}#sk-container-id-13 label.sk-toggleable__label-arrow:before {content: \"▸\";float: left;margin-right: 0.25em;color: #696969;}#sk-container-id-13 label.sk-toggleable__label-arrow:hover:before {color: black;}#sk-container-id-13 div.sk-estimator:hover label.sk-toggleable__label-arrow:before {color: black;}#sk-container-id-13 div.sk-toggleable__content {max-height: 0;max-width: 0;overflow: hidden;text-align: left;background-color: #f0f8ff;}#sk-container-id-13 div.sk-toggleable__content pre {margin: 0.2em;color: black;border-radius: 0.25em;background-color: #f0f8ff;}#sk-container-id-13 input.sk-toggleable__control:checked~div.sk-toggleable__content {max-height: 200px;max-width: 100%;overflow: auto;}#sk-container-id-13 input.sk-toggleable__control:checked~label.sk-toggleable__label-arrow:before {content: \"▾\";}#sk-container-id-13 div.sk-estimator input.sk-toggleable__control:checked~label.sk-toggleable__label {background-color: #d4ebff;}#sk-container-id-13 div.sk-label input.sk-toggleable__control:checked~label.sk-toggleable__label {background-color: #d4ebff;}#sk-container-id-13 input.sk-hidden--visually {border: 0;clip: rect(1px 1px 1px 1px);clip: rect(1px, 1px, 1px, 1px);height: 1px;margin: -1px;overflow: hidden;padding: 0;position: absolute;width: 1px;}#sk-container-id-13 div.sk-estimator {font-family: monospace;background-color: #f0f8ff;border: 1px dotted black;border-radius: 0.25em;box-sizing: border-box;margin-bottom: 0.5em;}#sk-container-id-13 div.sk-estimator:hover {background-color: #d4ebff;}#sk-container-id-13 div.sk-parallel-item::after {content: \"\";width: 100%;border-bottom: 1px solid gray;flex-grow: 1;}#sk-container-id-13 div.sk-label:hover label.sk-toggleable__label {background-color: #d4ebff;}#sk-container-id-13 div.sk-serial::before {content: \"\";position: absolute;border-left: 1px solid gray;box-sizing: border-box;top: 0;bottom: 0;left: 50%;z-index: 0;}#sk-container-id-13 div.sk-serial {display: flex;flex-direction: column;align-items: center;background-color: white;padding-right: 0.2em;padding-left: 0.2em;position: relative;}#sk-container-id-13 div.sk-item {position: relative;z-index: 1;}#sk-container-id-13 div.sk-parallel {display: flex;align-items: stretch;justify-content: center;background-color: white;position: relative;}#sk-container-id-13 div.sk-item::before, #sk-container-id-13 div.sk-parallel-item::before {content: \"\";position: absolute;border-left: 1px solid gray;box-sizing: border-box;top: 0;bottom: 0;left: 50%;z-index: -1;}#sk-container-id-13 div.sk-parallel-item {display: flex;flex-direction: column;z-index: 1;position: relative;background-color: white;}#sk-container-id-13 div.sk-parallel-item:first-child::after {align-self: flex-end;width: 50%;}#sk-container-id-13 div.sk-parallel-item:last-child::after {align-self: flex-start;width: 50%;}#sk-container-id-13 div.sk-parallel-item:only-child::after {width: 0;}#sk-container-id-13 div.sk-dashed-wrapped {border: 1px dashed gray;margin: 0 0.4em 0.5em 0.4em;box-sizing: border-box;padding-bottom: 0.4em;background-color: white;}#sk-container-id-13 div.sk-label label {font-family: monospace;font-weight: bold;display: inline-block;line-height: 1.2em;}#sk-container-id-13 div.sk-label-container {text-align: center;}#sk-container-id-13 div.sk-container {/* jupyter's `normalize.less` sets `[hidden] { display: none; }` but bootstrap.min.css set `[hidden] { display: none !important; }` so we also need the `!important` here to be able to override the default hidden behavior on the sphinx rendered scikit-learn.org. See: https://github.com/scikit-learn/scikit-learn/issues/21755 */display: inline-block !important;position: relative;}#sk-container-id-13 div.sk-text-repr-fallback {display: none;}</style><div id=\"sk-container-id-13\" class=\"sk-top-container\"><div class=\"sk-text-repr-fallback\"><pre>IsolationForest(contamination=0.3, random_state=42)</pre><b>In a Jupyter environment, please rerun this cell to show the HTML representation or trust the notebook. <br />On GitHub, the HTML representation is unable to render, please try loading this page with nbviewer.org.</b></div><div class=\"sk-container\" hidden><div class=\"sk-item\"><div class=\"sk-estimator sk-toggleable\"><input class=\"sk-toggleable__control sk-hidden--visually\" id=\"sk-estimator-id-13\" type=\"checkbox\" checked><label for=\"sk-estimator-id-13\" class=\"sk-toggleable__label sk-toggleable__label-arrow\">IsolationForest</label><div class=\"sk-toggleable__content\"><pre>IsolationForest(contamination=0.3, random_state=42)</pre></div></div></div></div></div>"
      ],
      "text/plain": [
       "IsolationForest(contamination=0.3, random_state=42)"
      ]
     },
     "execution_count": 159,
     "metadata": {},
     "output_type": "execute_result"
    }
   ],
   "source": [
    "# Fit Isolation Forest for anomaly detection\n",
    "clf_anomaly = IsolationForest(contamination=0.3, random_state=42)\n",
    "clf_anomaly.fit(X)"
   ]
  },
  {
   "cell_type": "markdown",
   "id": "4bbe48d2",
   "metadata": {},
   "source": [
    "# Testing IForest and RandomForestClassifier"
   ]
  },
  {
   "cell_type": "code",
   "execution_count": 160,
   "id": "988f10d3",
   "metadata": {},
   "outputs": [
    {
     "name": "stdout",
     "output_type": "stream",
     "text": [
      "accuracy score for Isolation Forest: 0.7272727272727273\n",
      "precision score for Isolation Forest: 1.0\n",
      "accuracy score for RandomForestClassifier: 1.0\n",
      "precision score for RandomForestClassifier: 1.0\n"
     ]
    }
   ],
   "source": [
    "from sklearn.metrics import accuracy_score, precision_score\n",
    "\n",
    "anom_pred = clf_anomaly.predict(X_test)\n",
    "anom_pred[anom_pred == -1] = 0\n",
    "print(f'accuracy score for Isolation Forest: {accuracy_score(y_test, anom_pred )}')\n",
    "print(f'precision score for Isolation Forest: {precision_score(y_test, anom_pred)}')\n",
    "\n",
    "class_pred = best_classifier.predict(X_test)\n",
    "class_pred[class_pred == -1] = 0\n",
    "\n",
    "print(f'accuracy score for RandomForestClassifier: {accuracy_score(y_test, class_pred )}')\n",
    "print(f'precision score for RandomForestClassifier: {precision_score(y_test, class_pred)}')\n"
   ]
  },
  {
   "cell_type": "markdown",
   "id": "819dc0c8",
   "metadata": {},
   "source": [
    "# Testing IForest with Cross Validation"
   ]
  },
  {
   "cell_type": "code",
   "execution_count": 157,
   "id": "9654ff6a",
   "metadata": {},
   "outputs": [
    {
     "name": "stdout",
     "output_type": "stream",
     "text": [
      "Anomaly Predictions from Cross-Validation:\n",
      "accuracy score: 0.8181818181818182\n",
      "precision score: 1.0\n",
      "accuracy score: 1.0\n",
      "precision score: 1.0\n"
     ]
    }
   ],
   "source": [
    "from sklearn.model_selection import cross_val_predict\n",
    "\n",
    "# Fit Isolation Forest for anomaly detection\n",
    "clf_anomaly = IsolationForest(contamination=0.1, random_state=42)\n",
    "\n",
    "# Perform cross-validation\n",
    "anomaly_predictions_cv = cross_val_predict(clf_anomaly, X_test, cv=5)\n",
    "    \n",
    "print(\"Anomaly Predictions from Cross-Validation:\")\n",
    "\n",
    "#anomaly_predictions_cv = best_classifier.predict(X_test)\n",
    "anomaly_predictions_cv[anomaly_predictions_cv == -1] = 0\n",
    "print(f'accuracy score: {accuracy_score(y_test, anomaly_predictions_cv )}')\n",
    "print(f'precision score: {precision_score(y_test, anomaly_predictions_cv)}')\n",
    "\n",
    "class_predictions_cv = cross_val_predict(best_classifier, X_test, y_test, cv=5)\n",
    "class_predictions_cv[class_predictions_cv==-1]=0\n",
    "print(f'accuracy score: {accuracy_score(y_test, class_predictions_cv)}')\n",
    "print(f'precision score: {precision_score(y_test, class_predictions_cv)}')\n",
    "\n"
   ]
  },
  {
   "cell_type": "markdown",
   "id": "aafc8141",
   "metadata": {},
   "source": [
    "# Testing IForest with Cross Validation and Threshold"
   ]
  },
  {
   "cell_type": "code",
   "execution_count": 136,
   "id": "8ab1b0ac",
   "metadata": {},
   "outputs": [
    {
     "name": "stdout",
     "output_type": "stream",
     "text": [
      "Anomaly Predictions using Threshold: [0 0 0 0 0 0 0 0 0 0 0 0 0 0 0 0 0 0 0 0 0 0 0 0 0 0 0 1 0 0 0 0 0 0 0 0 0\n",
      " 0 0 0 0 0 0 0 0 0 0 0 0 0 0 0 0 0 0 0 0 0 0 0 0 0 0 0 0 0 0 0 0 0 0 0 0 0\n",
      " 0 0 0 0 0 0 0 0 0 0 0 0 0 0 0 0 1 0 0 0 0 0 0 0 0 0 0 0 0 0 0 0 0 0 0 0 0\n",
      " 0 0 0 0 0 0 0 0 1 0 0 1 0 0 0 0 0 0 0 0 0 0 0 0 0 1 0 0 0 0 0 0 0 0 0 0 0\n",
      " 0 0 0 0 0 1 0 0 1 0 0 0 0 0 0 0 0 0 0 0 0 0 0 0 0 0 0 0 0 0 0 0 0]\n"
     ]
    }
   ],
   "source": [
    "# Fit Isolation Forest for anomaly detection\n",
    "clf_anomaly = IsolationForest(contamination=0.3, random_state=42)\n",
    "clf_anomaly.fit(X)\n",
    "\n",
    "# Get decision function scores\n",
    "decision_scores = clf_anomaly.decision_function(X)\n",
    "\n",
    "# Specify a threshold based on the decision scores\n",
    "threshold = -0.05 \n",
    "\n",
    "# Predict anomalies based on the specified threshold\n",
    "anomaly_predictions = (decision_scores < threshold).astype(int)\n",
    "\n",
    "print(\"Anomaly Predictions using Threshold:\", anomaly_predictions)"
   ]
  },
  {
   "cell_type": "markdown",
   "id": "27e64488",
   "metadata": {},
   "source": [
    "# TESTING WITH INVENTED DATA"
   ]
  },
  {
   "cell_type": "code",
   "execution_count": 132,
   "id": "15149335",
   "metadata": {},
   "outputs": [],
   "source": [
    "new_records_data = {\n",
    "    'State Code': [45.0],\n",
    "    'Region': [3.0],\n",
    "    'Urban/Suburban/Rural': [2.0],\n",
    "    'Age': [28.0],\n",
    "    'Race': [1.0],\n",
    "    'Religion': [3.0],\n",
    "    'Education': [2.0],\n",
    "    'School Performance': [4.0],\n",
    "    'Birth Order': [2.0],\n",
    "    'Number of Siblings': [2.0],\n",
    "    'Relationship Status': [1.0],\n",
    "    'Children': [0.0],\n",
    "    'Employment Status': [1.0],\n",
    "    'Employment Type': [3.0],\n",
    "    'Military Branch': [1.0],\n",
    "    'Community Involvement': [2.0],\n",
    "    'Part I Crimes': [10.0],\n",
    "    'Part II Crimes': [20.0],\n",
    "    'Domestic Abuse Specified': [1.0],\n",
    "    'Childhood SES': [0],\n",
    "    'Recent or Ongoing Stressor': [1.0],\n",
    "    'Timeline of Signs of Crisis': [2.0],\n",
    "    'Substance Use': [1.0],\n",
    "    'Known Prejudices': [0.0],\n",
    "    'Leakage How': [2.0],\n",
    "    'Leakage Who': [0.0],\n",
    "    'Leakage Specific/Nonspecific': [1.0],\n",
    "    'Criminal Sentence': [0.0]\n",
    "}\n",
    "\n",
    "new_records = pd.DataFrame(new_records_data)\n"
   ]
  },
  {
   "cell_type": "code",
   "execution_count": 148,
   "id": "9dbec2a8",
   "metadata": {},
   "outputs": [
    {
     "name": "stdout",
     "output_type": "stream",
     "text": [
      "Anomaly Predictions for New Records [0 Non shooter, 1 Shooter]: [0]\n",
      "Likelihood Predictions for New Records [1 Non shooter, 0 Shooter]: [1]\n"
     ]
    },
    {
     "name": "stderr",
     "output_type": "stream",
     "text": [
      "/home/chemo/.local/lib/python3.10/site-packages/sklearn/base.py:432: UserWarning: X has feature names, but IsolationForest was fitted without feature names\n",
      "  warnings.warn(\n",
      "/home/chemo/.local/lib/python3.10/site-packages/sklearn/base.py:432: UserWarning: X has feature names, but RandomForestClassifier was fitted without feature names\n",
      "  warnings.warn(\n"
     ]
    }
   ],
   "source": [
    "# Predict anomalies using Isolation Forest\n",
    "anomaly_predictions_new = clf_anomaly.predict(new_records)\n",
    "anomaly_predictions_new[anomaly_predictions_new ==-1] = 0\n",
    "\n",
    "# Predict likelihood using the best classifier\n",
    "likelihood_predictions = best_classifier.predict(new_records)\n",
    "likelihood_predictions[likelihood_predictions ==-1] == 0\n",
    "\n",
    "\n",
    "print(\"Anomaly Predictions for New Records [0 Non shooter, 1 Shooter]:\", anomaly_predictions_new)\n",
    "print(\"Likelihood Predictions for New Records [1 Non shooter, 0 Shooter]:\", likelihood_predictions)"
   ]
  }
 ],
 "metadata": {
  "kernelspec": {
   "display_name": "Python 3 (ipykernel)",
   "language": "python",
   "name": "python3"
  },
  "language_info": {
   "codemirror_mode": {
    "name": "ipython",
    "version": 3
   },
   "file_extension": ".py",
   "mimetype": "text/x-python",
   "name": "python",
   "nbconvert_exporter": "python",
   "pygments_lexer": "ipython3",
   "version": "3.10.9"
  }
 },
 "nbformat": 4,
 "nbformat_minor": 5
}
